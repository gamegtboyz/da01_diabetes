{
 "cells": [
  {
   "cell_type": "code",
   "execution_count": 1,
   "metadata": {},
   "outputs": [],
   "source": [
    "import numpy as np\n",
    "import pandas as pd"
   ]
  },
  {
   "cell_type": "markdown",
   "metadata": {},
   "source": [
    "##### Download and Collect the data"
   ]
  },
  {
   "cell_type": "code",
   "execution_count": 2,
   "metadata": {},
   "outputs": [],
   "source": [
    "rawdata = pd.read_sas('LLCP2023.XPT', format='xport')"
   ]
  },
  {
   "cell_type": "code",
   "execution_count": 3,
   "metadata": {},
   "outputs": [
    {
     "data": {
      "text/html": [
       "<div>\n",
       "<style scoped>\n",
       "    .dataframe tbody tr th:only-of-type {\n",
       "        vertical-align: middle;\n",
       "    }\n",
       "\n",
       "    .dataframe tbody tr th {\n",
       "        vertical-align: top;\n",
       "    }\n",
       "\n",
       "    .dataframe thead th {\n",
       "        text-align: right;\n",
       "    }\n",
       "</style>\n",
       "<table border=\"1\" class=\"dataframe\">\n",
       "  <thead>\n",
       "    <tr style=\"text-align: right;\">\n",
       "      <th></th>\n",
       "      <th>_STATE</th>\n",
       "      <th>FMONTH</th>\n",
       "      <th>IDATE</th>\n",
       "      <th>IMONTH</th>\n",
       "      <th>IDAY</th>\n",
       "      <th>IYEAR</th>\n",
       "      <th>DISPCODE</th>\n",
       "      <th>SEQNO</th>\n",
       "      <th>_PSU</th>\n",
       "      <th>CTELENM1</th>\n",
       "      <th>...</th>\n",
       "      <th>DROCDY4_</th>\n",
       "      <th>_RFBING6</th>\n",
       "      <th>_DRNKWK2</th>\n",
       "      <th>_RFDRHV8</th>\n",
       "      <th>_FLSHOT7</th>\n",
       "      <th>_PNEUMO3</th>\n",
       "      <th>_AIDTST4</th>\n",
       "      <th>_RFSEAT2</th>\n",
       "      <th>_RFSEAT3</th>\n",
       "      <th>_DRNKDRV</th>\n",
       "    </tr>\n",
       "  </thead>\n",
       "  <tbody>\n",
       "    <tr>\n",
       "      <th>0</th>\n",
       "      <td>1.0</td>\n",
       "      <td>1.0</td>\n",
       "      <td>b'03012023'</td>\n",
       "      <td>b'03'</td>\n",
       "      <td>b'01'</td>\n",
       "      <td>b'2023'</td>\n",
       "      <td>1100.0</td>\n",
       "      <td>b'2023000001'</td>\n",
       "      <td>2.023000e+09</td>\n",
       "      <td>1.0</td>\n",
       "      <td>...</td>\n",
       "      <td>5.397605e-79</td>\n",
       "      <td>1.0</td>\n",
       "      <td>5.397605e-79</td>\n",
       "      <td>1.0</td>\n",
       "      <td>2.0</td>\n",
       "      <td>2.0</td>\n",
       "      <td>2.0</td>\n",
       "      <td>1.0</td>\n",
       "      <td>1.0</td>\n",
       "      <td>9.0</td>\n",
       "    </tr>\n",
       "    <tr>\n",
       "      <th>1</th>\n",
       "      <td>1.0</td>\n",
       "      <td>1.0</td>\n",
       "      <td>b'01062023'</td>\n",
       "      <td>b'01'</td>\n",
       "      <td>b'06'</td>\n",
       "      <td>b'2023'</td>\n",
       "      <td>1100.0</td>\n",
       "      <td>b'2023000002'</td>\n",
       "      <td>2.023000e+09</td>\n",
       "      <td>1.0</td>\n",
       "      <td>...</td>\n",
       "      <td>5.397605e-79</td>\n",
       "      <td>1.0</td>\n",
       "      <td>5.397605e-79</td>\n",
       "      <td>1.0</td>\n",
       "      <td>1.0</td>\n",
       "      <td>1.0</td>\n",
       "      <td>2.0</td>\n",
       "      <td>1.0</td>\n",
       "      <td>1.0</td>\n",
       "      <td>9.0</td>\n",
       "    </tr>\n",
       "    <tr>\n",
       "      <th>2</th>\n",
       "      <td>1.0</td>\n",
       "      <td>1.0</td>\n",
       "      <td>b'03082023'</td>\n",
       "      <td>b'03'</td>\n",
       "      <td>b'08'</td>\n",
       "      <td>b'2023'</td>\n",
       "      <td>1100.0</td>\n",
       "      <td>b'2023000003'</td>\n",
       "      <td>2.023000e+09</td>\n",
       "      <td>1.0</td>\n",
       "      <td>...</td>\n",
       "      <td>5.397605e-79</td>\n",
       "      <td>1.0</td>\n",
       "      <td>5.397605e-79</td>\n",
       "      <td>1.0</td>\n",
       "      <td>1.0</td>\n",
       "      <td>1.0</td>\n",
       "      <td>2.0</td>\n",
       "      <td>1.0</td>\n",
       "      <td>1.0</td>\n",
       "      <td>9.0</td>\n",
       "    </tr>\n",
       "    <tr>\n",
       "      <th>3</th>\n",
       "      <td>1.0</td>\n",
       "      <td>1.0</td>\n",
       "      <td>b'03062023'</td>\n",
       "      <td>b'03'</td>\n",
       "      <td>b'06'</td>\n",
       "      <td>b'2023'</td>\n",
       "      <td>1100.0</td>\n",
       "      <td>b'2023000004'</td>\n",
       "      <td>2.023000e+09</td>\n",
       "      <td>1.0</td>\n",
       "      <td>...</td>\n",
       "      <td>5.397605e-79</td>\n",
       "      <td>1.0</td>\n",
       "      <td>5.397605e-79</td>\n",
       "      <td>1.0</td>\n",
       "      <td>1.0</td>\n",
       "      <td>1.0</td>\n",
       "      <td>1.0</td>\n",
       "      <td>1.0</td>\n",
       "      <td>1.0</td>\n",
       "      <td>9.0</td>\n",
       "    </tr>\n",
       "    <tr>\n",
       "      <th>4</th>\n",
       "      <td>1.0</td>\n",
       "      <td>1.0</td>\n",
       "      <td>b'01062023'</td>\n",
       "      <td>b'01'</td>\n",
       "      <td>b'06'</td>\n",
       "      <td>b'2023'</td>\n",
       "      <td>1100.0</td>\n",
       "      <td>b'2023000005'</td>\n",
       "      <td>2.023000e+09</td>\n",
       "      <td>1.0</td>\n",
       "      <td>...</td>\n",
       "      <td>7.000000e+00</td>\n",
       "      <td>1.0</td>\n",
       "      <td>4.700000e+01</td>\n",
       "      <td>1.0</td>\n",
       "      <td>2.0</td>\n",
       "      <td>1.0</td>\n",
       "      <td>2.0</td>\n",
       "      <td>1.0</td>\n",
       "      <td>1.0</td>\n",
       "      <td>2.0</td>\n",
       "    </tr>\n",
       "  </tbody>\n",
       "</table>\n",
       "<p>5 rows × 350 columns</p>\n",
       "</div>"
      ],
      "text/plain": [
       "   _STATE  FMONTH        IDATE IMONTH   IDAY    IYEAR  DISPCODE  \\\n",
       "0     1.0     1.0  b'03012023'  b'03'  b'01'  b'2023'    1100.0   \n",
       "1     1.0     1.0  b'01062023'  b'01'  b'06'  b'2023'    1100.0   \n",
       "2     1.0     1.0  b'03082023'  b'03'  b'08'  b'2023'    1100.0   \n",
       "3     1.0     1.0  b'03062023'  b'03'  b'06'  b'2023'    1100.0   \n",
       "4     1.0     1.0  b'01062023'  b'01'  b'06'  b'2023'    1100.0   \n",
       "\n",
       "           SEQNO          _PSU  CTELENM1  ...      DROCDY4_  _RFBING6  \\\n",
       "0  b'2023000001'  2.023000e+09       1.0  ...  5.397605e-79       1.0   \n",
       "1  b'2023000002'  2.023000e+09       1.0  ...  5.397605e-79       1.0   \n",
       "2  b'2023000003'  2.023000e+09       1.0  ...  5.397605e-79       1.0   \n",
       "3  b'2023000004'  2.023000e+09       1.0  ...  5.397605e-79       1.0   \n",
       "4  b'2023000005'  2.023000e+09       1.0  ...  7.000000e+00       1.0   \n",
       "\n",
       "       _DRNKWK2  _RFDRHV8  _FLSHOT7  _PNEUMO3  _AIDTST4  _RFSEAT2  _RFSEAT3  \\\n",
       "0  5.397605e-79       1.0       2.0       2.0       2.0       1.0       1.0   \n",
       "1  5.397605e-79       1.0       1.0       1.0       2.0       1.0       1.0   \n",
       "2  5.397605e-79       1.0       1.0       1.0       2.0       1.0       1.0   \n",
       "3  5.397605e-79       1.0       1.0       1.0       1.0       1.0       1.0   \n",
       "4  4.700000e+01       1.0       2.0       1.0       2.0       1.0       1.0   \n",
       "\n",
       "   _DRNKDRV  \n",
       "0       9.0  \n",
       "1       9.0  \n",
       "2       9.0  \n",
       "3       9.0  \n",
       "4       2.0  \n",
       "\n",
       "[5 rows x 350 columns]"
      ]
     },
     "execution_count": 3,
     "metadata": {},
     "output_type": "execute_result"
    }
   ],
   "source": [
    "rawdata.head()"
   ]
  },
  {
   "cell_type": "code",
   "execution_count": 4,
   "metadata": {},
   "outputs": [],
   "source": [
    "# select the column we need to use\n",
    "'''\n",
    "Each variable has their meaning as follows\n",
    "'DIABETE4'  : (Ever told) you had diabetes << this is our dependent variable\n",
    "'_BMI5'     : Computed body mass index\n",
    "'_RFBMI5'   : Overweight or obese calculated variable\n",
    "'_RFHYPE6'  : High Blood Pressure Calculated Variable\n",
    "'TOLDHI3'   : Ever Told Cholesterol Is High\n",
    "'_CHOLCH3'  : Cholesterol Checked Calculated Variable\n",
    "'CHCKDNY2'  : Ever told you have kidney disease?\n",
    "'SMOKE100'  : Smoked at Least 100 Cigarettes\n",
    "'_RFDRHV8'  : Heavy Alcohol Consumption  Calculated Variable\n",
    "'CVDSTRK3'  : Ever Diagnosed with a Stroke\n",
    "'_MICHD'    : Ever had CHD or MI\n",
    "'_TOTINDA'  : Leisure Time Physical Activity Calculated Variable\n",
    "'GENHLTH'   : General Health\n",
    "'PHYSHLTH'  : Number of Days Physical Health Not Good\n",
    "'MENTHLTH'  : Number of Days Mental Health Not Good\n",
    "'DIFFWALK'  : Difficulty Walking or Climbing Stairs\n",
    "'_HLTHPL1'  : Have any health insurance\n",
    "'MEDCOST1'  : Could Not Afford To See Doctor\n",
    "'CHECKUP1'  : Length of time since last routine checkup\n",
    "'_SEX'      : Calculated sex variable\n",
    "'_AGEG5YR'  : Reported age in five-year age categories calculated variable\n",
    "'EDUCA'     : Computed level of education completed categories\n",
    "'INCOME3'   : Computed income categories\n",
    "'''\n",
    "\n",
    "selected_columns = ['DIABETE4', '_BMI5', '_RFBMI5', '_RFHYPE6', \n",
    "                    'TOLDHI3', '_CHOLCH3', 'CHCKDNY2', 'SMOKE100',\n",
    "                    '_RFDRHV8', 'CVDSTRK3', '_MICHD', '_TOTINDA',\n",
    "                    'GENHLTH', 'PHYSHLTH', 'MENTHLTH',\n",
    "                    'DIFFWALK', '_HLTHPL1', 'MEDCOST1', 'CHECKUP1',\n",
    "                    '_SEX', '_AGEG5YR', 'EDUCA', 'INCOME3']"
   ]
  },
  {
   "cell_type": "code",
   "execution_count": 5,
   "metadata": {},
   "outputs": [],
   "source": [
    "# extract the select columns onto new dataframe\n",
    "data = rawdata[selected_columns]"
   ]
  },
  {
   "cell_type": "markdown",
   "metadata": {},
   "source": [
    "##### Perform EDA procedures"
   ]
  },
  {
   "cell_type": "code",
   "execution_count": 6,
   "metadata": {},
   "outputs": [
    {
     "data": {
      "text/html": [
       "<div>\n",
       "<style scoped>\n",
       "    .dataframe tbody tr th:only-of-type {\n",
       "        vertical-align: middle;\n",
       "    }\n",
       "\n",
       "    .dataframe tbody tr th {\n",
       "        vertical-align: top;\n",
       "    }\n",
       "\n",
       "    .dataframe thead th {\n",
       "        text-align: right;\n",
       "    }\n",
       "</style>\n",
       "<table border=\"1\" class=\"dataframe\">\n",
       "  <thead>\n",
       "    <tr style=\"text-align: right;\">\n",
       "      <th></th>\n",
       "      <th>DIABETE4</th>\n",
       "      <th>_BMI5</th>\n",
       "      <th>_RFBMI5</th>\n",
       "      <th>_RFHYPE6</th>\n",
       "      <th>TOLDHI3</th>\n",
       "      <th>_CHOLCH3</th>\n",
       "      <th>CHCKDNY2</th>\n",
       "      <th>SMOKE100</th>\n",
       "      <th>_RFDRHV8</th>\n",
       "      <th>CVDSTRK3</th>\n",
       "      <th>...</th>\n",
       "      <th>PHYSHLTH</th>\n",
       "      <th>MENTHLTH</th>\n",
       "      <th>DIFFWALK</th>\n",
       "      <th>_HLTHPL1</th>\n",
       "      <th>MEDCOST1</th>\n",
       "      <th>CHECKUP1</th>\n",
       "      <th>_SEX</th>\n",
       "      <th>_AGEG5YR</th>\n",
       "      <th>EDUCA</th>\n",
       "      <th>INCOME3</th>\n",
       "    </tr>\n",
       "  </thead>\n",
       "  <tbody>\n",
       "    <tr>\n",
       "      <th>0</th>\n",
       "      <td>1.0</td>\n",
       "      <td>3047.0</td>\n",
       "      <td>2.0</td>\n",
       "      <td>2.0</td>\n",
       "      <td>2.0</td>\n",
       "      <td>1.0</td>\n",
       "      <td>2.0</td>\n",
       "      <td>2.0</td>\n",
       "      <td>1.0</td>\n",
       "      <td>2.0</td>\n",
       "      <td>...</td>\n",
       "      <td>88.0</td>\n",
       "      <td>88.0</td>\n",
       "      <td>1.0</td>\n",
       "      <td>1.0</td>\n",
       "      <td>2.0</td>\n",
       "      <td>2.0</td>\n",
       "      <td>2.0</td>\n",
       "      <td>13.0</td>\n",
       "      <td>5.0</td>\n",
       "      <td>99.0</td>\n",
       "    </tr>\n",
       "    <tr>\n",
       "      <th>1</th>\n",
       "      <td>3.0</td>\n",
       "      <td>2856.0</td>\n",
       "      <td>2.0</td>\n",
       "      <td>2.0</td>\n",
       "      <td>1.0</td>\n",
       "      <td>1.0</td>\n",
       "      <td>2.0</td>\n",
       "      <td>2.0</td>\n",
       "      <td>1.0</td>\n",
       "      <td>2.0</td>\n",
       "      <td>...</td>\n",
       "      <td>88.0</td>\n",
       "      <td>88.0</td>\n",
       "      <td>2.0</td>\n",
       "      <td>1.0</td>\n",
       "      <td>2.0</td>\n",
       "      <td>2.0</td>\n",
       "      <td>2.0</td>\n",
       "      <td>13.0</td>\n",
       "      <td>5.0</td>\n",
       "      <td>99.0</td>\n",
       "    </tr>\n",
       "    <tr>\n",
       "      <th>2</th>\n",
       "      <td>3.0</td>\n",
       "      <td>2231.0</td>\n",
       "      <td>1.0</td>\n",
       "      <td>2.0</td>\n",
       "      <td>1.0</td>\n",
       "      <td>1.0</td>\n",
       "      <td>2.0</td>\n",
       "      <td>1.0</td>\n",
       "      <td>1.0</td>\n",
       "      <td>2.0</td>\n",
       "      <td>...</td>\n",
       "      <td>6.0</td>\n",
       "      <td>2.0</td>\n",
       "      <td>1.0</td>\n",
       "      <td>1.0</td>\n",
       "      <td>1.0</td>\n",
       "      <td>1.0</td>\n",
       "      <td>2.0</td>\n",
       "      <td>13.0</td>\n",
       "      <td>4.0</td>\n",
       "      <td>2.0</td>\n",
       "    </tr>\n",
       "    <tr>\n",
       "      <th>3</th>\n",
       "      <td>3.0</td>\n",
       "      <td>2744.0</td>\n",
       "      <td>2.0</td>\n",
       "      <td>1.0</td>\n",
       "      <td>2.0</td>\n",
       "      <td>1.0</td>\n",
       "      <td>2.0</td>\n",
       "      <td>2.0</td>\n",
       "      <td>1.0</td>\n",
       "      <td>2.0</td>\n",
       "      <td>...</td>\n",
       "      <td>2.0</td>\n",
       "      <td>88.0</td>\n",
       "      <td>1.0</td>\n",
       "      <td>1.0</td>\n",
       "      <td>2.0</td>\n",
       "      <td>3.0</td>\n",
       "      <td>2.0</td>\n",
       "      <td>12.0</td>\n",
       "      <td>5.0</td>\n",
       "      <td>99.0</td>\n",
       "    </tr>\n",
       "    <tr>\n",
       "      <th>4</th>\n",
       "      <td>1.0</td>\n",
       "      <td>2585.0</td>\n",
       "      <td>2.0</td>\n",
       "      <td>2.0</td>\n",
       "      <td>2.0</td>\n",
       "      <td>1.0</td>\n",
       "      <td>2.0</td>\n",
       "      <td>2.0</td>\n",
       "      <td>1.0</td>\n",
       "      <td>2.0</td>\n",
       "      <td>...</td>\n",
       "      <td>88.0</td>\n",
       "      <td>88.0</td>\n",
       "      <td>1.0</td>\n",
       "      <td>1.0</td>\n",
       "      <td>2.0</td>\n",
       "      <td>1.0</td>\n",
       "      <td>2.0</td>\n",
       "      <td>12.0</td>\n",
       "      <td>5.0</td>\n",
       "      <td>7.0</td>\n",
       "    </tr>\n",
       "  </tbody>\n",
       "</table>\n",
       "<p>5 rows × 23 columns</p>\n",
       "</div>"
      ],
      "text/plain": [
       "   DIABETE4   _BMI5  _RFBMI5  _RFHYPE6  TOLDHI3  _CHOLCH3  CHCKDNY2  SMOKE100  \\\n",
       "0       1.0  3047.0      2.0       2.0      2.0       1.0       2.0       2.0   \n",
       "1       3.0  2856.0      2.0       2.0      1.0       1.0       2.0       2.0   \n",
       "2       3.0  2231.0      1.0       2.0      1.0       1.0       2.0       1.0   \n",
       "3       3.0  2744.0      2.0       1.0      2.0       1.0       2.0       2.0   \n",
       "4       1.0  2585.0      2.0       2.0      2.0       1.0       2.0       2.0   \n",
       "\n",
       "   _RFDRHV8  CVDSTRK3  ...  PHYSHLTH  MENTHLTH  DIFFWALK  _HLTHPL1  MEDCOST1  \\\n",
       "0       1.0       2.0  ...      88.0      88.0       1.0       1.0       2.0   \n",
       "1       1.0       2.0  ...      88.0      88.0       2.0       1.0       2.0   \n",
       "2       1.0       2.0  ...       6.0       2.0       1.0       1.0       1.0   \n",
       "3       1.0       2.0  ...       2.0      88.0       1.0       1.0       2.0   \n",
       "4       1.0       2.0  ...      88.0      88.0       1.0       1.0       2.0   \n",
       "\n",
       "   CHECKUP1  _SEX  _AGEG5YR  EDUCA  INCOME3  \n",
       "0       2.0   2.0      13.0    5.0     99.0  \n",
       "1       2.0   2.0      13.0    5.0     99.0  \n",
       "2       1.0   2.0      13.0    4.0      2.0  \n",
       "3       3.0   2.0      12.0    5.0     99.0  \n",
       "4       1.0   2.0      12.0    5.0      7.0  \n",
       "\n",
       "[5 rows x 23 columns]"
      ]
     },
     "execution_count": 6,
     "metadata": {},
     "output_type": "execute_result"
    }
   ],
   "source": [
    "data.head()"
   ]
  },
  {
   "cell_type": "code",
   "execution_count": 7,
   "metadata": {},
   "outputs": [
    {
     "data": {
      "text/plain": [
       "(433323, 23)"
      ]
     },
     "execution_count": 7,
     "metadata": {},
     "output_type": "execute_result"
    }
   ],
   "source": [
    "data.shape"
   ]
  },
  {
   "cell_type": "code",
   "execution_count": 8,
   "metadata": {},
   "outputs": [
    {
     "name": "stdout",
     "output_type": "stream",
     "text": [
      "<class 'pandas.core.frame.DataFrame'>\n",
      "RangeIndex: 433323 entries, 0 to 433322\n",
      "Data columns (total 23 columns):\n",
      " #   Column    Non-Null Count   Dtype  \n",
      "---  ------    --------------   -----  \n",
      " 0   DIABETE4  433318 non-null  float64\n",
      " 1   _BMI5     392788 non-null  float64\n",
      " 2   _RFBMI5   433323 non-null  float64\n",
      " 3   _RFHYPE6  433323 non-null  float64\n",
      " 4   TOLDHI3   381511 non-null  float64\n",
      " 5   _CHOLCH3  433323 non-null  float64\n",
      " 6   CHCKDNY2  433320 non-null  float64\n",
      " 7   SMOKE100  413649 non-null  float64\n",
      " 8   _RFDRHV8  433323 non-null  float64\n",
      " 9   CVDSTRK3  433319 non-null  float64\n",
      " 10  _MICHD    428738 non-null  float64\n",
      " 11  _TOTINDA  433323 non-null  float64\n",
      " 12  GENHLTH   433319 non-null  float64\n",
      " 13  PHYSHLTH  433320 non-null  float64\n",
      " 14  MENTHLTH  433320 non-null  float64\n",
      " 15  DIFFWALK  417177 non-null  float64\n",
      " 16  _HLTHPL1  433323 non-null  float64\n",
      " 17  MEDCOST1  433321 non-null  float64\n",
      " 18  CHECKUP1  433321 non-null  float64\n",
      " 19  _SEX      433323 non-null  float64\n",
      " 20  _AGEG5YR  433323 non-null  float64\n",
      " 21  EDUCA     433314 non-null  float64\n",
      " 22  INCOME3   425248 non-null  float64\n",
      "dtypes: float64(23)\n",
      "memory usage: 76.0 MB\n"
     ]
    }
   ],
   "source": [
    "data.info()"
   ]
  },
  {
   "cell_type": "code",
   "execution_count": 9,
   "metadata": {},
   "outputs": [
    {
     "data": {
      "text/plain": [
       "DIABETE4        5\n",
       "_BMI5       40535\n",
       "_RFBMI5         0\n",
       "_RFHYPE6        0\n",
       "TOLDHI3     51812\n",
       "_CHOLCH3        0\n",
       "CHCKDNY2        3\n",
       "SMOKE100    19674\n",
       "_RFDRHV8        0\n",
       "CVDSTRK3        4\n",
       "_MICHD       4585\n",
       "_TOTINDA        0\n",
       "GENHLTH         4\n",
       "PHYSHLTH        3\n",
       "MENTHLTH        3\n",
       "DIFFWALK    16146\n",
       "_HLTHPL1        0\n",
       "MEDCOST1        2\n",
       "CHECKUP1        2\n",
       "_SEX            0\n",
       "_AGEG5YR        0\n",
       "EDUCA           9\n",
       "INCOME3      8075\n",
       "dtype: int64"
      ]
     },
     "execution_count": 9,
     "metadata": {},
     "output_type": "execute_result"
    }
   ],
   "source": [
    "data.isna().sum()"
   ]
  },
  {
   "cell_type": "code",
   "execution_count": 10,
   "metadata": {},
   "outputs": [
    {
     "name": "stdout",
     "output_type": "stream",
     "text": [
      "If we drop the data, we still have 338867 rows to work with.\n",
      "Btw, we lost the data by 21.8 percent.\n"
     ]
    }
   ],
   "source": [
    "# if we try to dropna, we will \n",
    "print(f'If we drop the data, we still have {data.dropna().shape[0]} rows to work with.')\n",
    "print(f'Btw, we lost the data by {round(((1 - (data.dropna().shape[0] / data.shape[0]))*100),2)} percent.')"
   ]
  },
  {
   "cell_type": "code",
   "execution_count": 11,
   "metadata": {},
   "outputs": [
    {
     "name": "stderr",
     "output_type": "stream",
     "text": [
      "C:\\Users\\abejr\\AppData\\Local\\Temp\\ipykernel_18940\\1347236882.py:2: SettingWithCopyWarning: \n",
      "A value is trying to be set on a copy of a slice from a DataFrame\n",
      "\n",
      "See the caveats in the documentation: https://pandas.pydata.org/pandas-docs/stable/user_guide/indexing.html#returning-a-view-versus-a-copy\n",
      "  data.dropna(inplace=True)\n"
     ]
    }
   ],
   "source": [
    "# If we go with dropping it, then.\n",
    "data.dropna(inplace=True)"
   ]
  },
  {
   "cell_type": "markdown",
   "metadata": {},
   "source": [
    "##### Data Cleansing\n",
    "In accordance with Codebook's description, we found that we still need to do some data cleansing for analysis purpose before proceed. We will go through each columns as follows:"
   ]
  },
  {
   "attachments": {
    "image.png": {
     "image/png": "[encoded data removed]"
    }
   },
   "cell_type": "markdown",
   "metadata": {},
   "source": [
    "#1 DIABETE4 :  (Ever told) you had diabetes.\n",
    "\n",
    "![image.png](attachment:image.png)"
   ]
  },
  {
   "cell_type": "code",
   "execution_count": 12,
   "metadata": {},
   "outputs": [
    {
     "name": "stderr",
     "output_type": "stream",
     "text": [
      "C:\\Users\\abejr\\AppData\\Local\\Temp\\ipykernel_18940\\457564763.py:10: SettingWithCopyWarning: \n",
      "A value is trying to be set on a copy of a slice from a DataFrame\n",
      "\n",
      "See the caveats in the documentation: https://pandas.pydata.org/pandas-docs/stable/user_guide/indexing.html#returning-a-view-versus-a-copy\n",
      "  data.drop(data[(data['DIABETE4'] == 7) | (data['DIABETE4'] == 9)].index, inplace=True)\n",
      "C:\\Users\\abejr\\AppData\\Local\\Temp\\ipykernel_18940\\457564763.py:13: SettingWithCopyWarning: \n",
      "A value is trying to be set on a copy of a slice from a DataFrame.\n",
      "Try using .loc[row_indexer,col_indexer] = value instead\n",
      "\n",
      "See the caveats in the documentation: https://pandas.pydata.org/pandas-docs/stable/user_guide/indexing.html#returning-a-view-versus-a-copy\n",
      "  data['DIABETE4'] = data['DIABETE4'].replace({1:1, 2:1, 3:0, 4:0})\n"
     ]
    },
    {
     "data": {
      "text/plain": [
       "array([1., 0.])"
      ]
     },
     "execution_count": 12,
     "metadata": {},
     "output_type": "execute_result"
    }
   ],
   "source": [
    "# 1. DIABETE4\n",
    "'''\n",
    "3, and 4 as 0 (no diabetes identified)\n",
    "1, and 2 as 1 (diabetes identified)\n",
    "\n",
    "drop 7, and 9 from the datasets\n",
    "'''\n",
    "\n",
    "# drop the value 7 and 9\n",
    "data.drop(data[(data['DIABETE4'] == 7) | (data['DIABETE4'] == 9)].index, inplace=True)\n",
    "\n",
    "# replace the remaining value into binary\n",
    "data['DIABETE4'] = data['DIABETE4'].replace({1:1, 2:1, 3:0, 4:0})\n",
    "\n",
    "# check the value\n",
    "data['DIABETE4'].unique()"
   ]
  },
  {
   "cell_type": "code",
   "execution_count": 13,
   "metadata": {},
   "outputs": [
    {
     "data": {
      "text/plain": [
       "np.int64(0)"
      ]
     },
     "execution_count": 13,
     "metadata": {},
     "output_type": "execute_result"
    }
   ],
   "source": [
    "data['_BMI5'].isna().sum()"
   ]
  },
  {
   "cell_type": "code",
   "execution_count": 14,
   "metadata": {},
   "outputs": [
    {
     "name": "stderr",
     "output_type": "stream",
     "text": [
      "C:\\Users\\abejr\\AppData\\Local\\Temp\\ipykernel_18940\\3511828738.py:8: SettingWithCopyWarning: \n",
      "A value is trying to be set on a copy of a slice from a DataFrame.\n",
      "Try using .loc[row_indexer,col_indexer] = value instead\n",
      "\n",
      "See the caveats in the documentation: https://pandas.pydata.org/pandas-docs/stable/user_guide/indexing.html#returning-a-view-versus-a-copy\n",
      "  data['_BMI5'] = round(data['_BMI5']/100, 0)\n"
     ]
    }
   ],
   "source": [
    "# 2. _BMI5\n",
    "'''\n",
    "Divide the provided values by 100. then do the roundings into nearest integer.\n",
    "\n",
    "No particular integer to drop.\n",
    "'''\n",
    "\n",
    "data['_BMI5'] = round(data['_BMI5']/100, 0)"
   ]
  },
  {
   "cell_type": "code",
   "execution_count": 15,
   "metadata": {},
   "outputs": [
    {
     "name": "stderr",
     "output_type": "stream",
     "text": [
      "C:\\Users\\abejr\\AppData\\Local\\Temp\\ipykernel_18940\\2961610834.py:10: SettingWithCopyWarning: \n",
      "A value is trying to be set on a copy of a slice from a DataFrame\n",
      "\n",
      "See the caveats in the documentation: https://pandas.pydata.org/pandas-docs/stable/user_guide/indexing.html#returning-a-view-versus-a-copy\n",
      "  data.drop(data[(data['_RFBMI5'] == 9)].index, inplace=True)\n",
      "C:\\Users\\abejr\\AppData\\Local\\Temp\\ipykernel_18940\\2961610834.py:13: SettingWithCopyWarning: \n",
      "A value is trying to be set on a copy of a slice from a DataFrame.\n",
      "Try using .loc[row_indexer,col_indexer] = value instead\n",
      "\n",
      "See the caveats in the documentation: https://pandas.pydata.org/pandas-docs/stable/user_guide/indexing.html#returning-a-view-versus-a-copy\n",
      "  data['_RFBMI5'] = data['_RFBMI5'].replace({1:0, 2:1})\n"
     ]
    },
    {
     "data": {
      "text/plain": [
       "array([1., 0.])"
      ]
     },
     "execution_count": 15,
     "metadata": {},
     "output_type": "execute_result"
    }
   ],
   "source": [
    "# 3. _RFBMI5\n",
    "'''\n",
    "1 as 0 (not overweight or obese)\n",
    "2 as 1 (overweight or obese)\n",
    "\n",
    "drop 9 from the datasets\n",
    "'''\n",
    "\n",
    "# drop the value 7 and 9\n",
    "data.drop(data[(data['_RFBMI5'] == 9)].index, inplace=True)\n",
    "\n",
    "# replace the remaining value into binary\n",
    "data['_RFBMI5'] = data['_RFBMI5'].replace({1:0, 2:1})\n",
    "\n",
    "# check the value\n",
    "data['_RFBMI5'].unique()"
   ]
  },
  {
   "cell_type": "code",
   "execution_count": 16,
   "metadata": {},
   "outputs": [
    {
     "data": {
      "text/plain": [
       "(338433, 23)"
      ]
     },
     "execution_count": 16,
     "metadata": {},
     "output_type": "execute_result"
    }
   ],
   "source": [
    "data.shape"
   ]
  },
  {
   "cell_type": "code",
   "execution_count": 17,
   "metadata": {},
   "outputs": [
    {
     "name": "stderr",
     "output_type": "stream",
     "text": [
      "C:\\Users\\abejr\\AppData\\Local\\Temp\\ipykernel_18940\\92290913.py:10: SettingWithCopyWarning: \n",
      "A value is trying to be set on a copy of a slice from a DataFrame\n",
      "\n",
      "See the caveats in the documentation: https://pandas.pydata.org/pandas-docs/stable/user_guide/indexing.html#returning-a-view-versus-a-copy\n",
      "  data.drop(data[(data['_RFHYPE6'] == 7) | (data['_RFHYPE6'] == 9)].index, inplace=True)\n",
      "C:\\Users\\abejr\\AppData\\Local\\Temp\\ipykernel_18940\\92290913.py:13: SettingWithCopyWarning: \n",
      "A value is trying to be set on a copy of a slice from a DataFrame.\n",
      "Try using .loc[row_indexer,col_indexer] = value instead\n",
      "\n",
      "See the caveats in the documentation: https://pandas.pydata.org/pandas-docs/stable/user_guide/indexing.html#returning-a-view-versus-a-copy\n",
      "  data['_RFHYPE6'] = data['_RFHYPE6'].replace({1:0, 2:1})\n"
     ]
    },
    {
     "data": {
      "text/plain": [
       "array([1., 0.])"
      ]
     },
     "execution_count": 17,
     "metadata": {},
     "output_type": "execute_result"
    }
   ],
   "source": [
    "# 4. _RFHYPE6\n",
    "'''\n",
    "1 as 0 (no high blood pressure identified)\n",
    "2 as 1 (high blood pressure identified)\n",
    "\n",
    "drop 7, and 9 from the datasets\n",
    "'''\n",
    "\n",
    "# drop the value 7 and 9\n",
    "data.drop(data[(data['_RFHYPE6'] == 7) | (data['_RFHYPE6'] == 9)].index, inplace=True)\n",
    "\n",
    "# replace the remaining value into binary\n",
    "data['_RFHYPE6'] = data['_RFHYPE6'].replace({1:0, 2:1})\n",
    "\n",
    "# check the value\n",
    "data['_RFHYPE6'].unique()"
   ]
  },
  {
   "cell_type": "code",
   "execution_count": 18,
   "metadata": {},
   "outputs": [
    {
     "name": "stderr",
     "output_type": "stream",
     "text": [
      "C:\\Users\\abejr\\AppData\\Local\\Temp\\ipykernel_18940\\2361962716.py:9: SettingWithCopyWarning: \n",
      "A value is trying to be set on a copy of a slice from a DataFrame\n",
      "\n",
      "See the caveats in the documentation: https://pandas.pydata.org/pandas-docs/stable/user_guide/indexing.html#returning-a-view-versus-a-copy\n",
      "  data.drop(data[(data['TOLDHI3'] == 7) | (data['TOLDHI3'] == 9)].index, inplace=True)\n",
      "C:\\Users\\abejr\\AppData\\Local\\Temp\\ipykernel_18940\\2361962716.py:12: SettingWithCopyWarning: \n",
      "A value is trying to be set on a copy of a slice from a DataFrame.\n",
      "Try using .loc[row_indexer,col_indexer] = value instead\n",
      "\n",
      "See the caveats in the documentation: https://pandas.pydata.org/pandas-docs/stable/user_guide/indexing.html#returning-a-view-versus-a-copy\n",
      "  data['TOLDHI3'] = data['TOLDHI3'].replace({2:0})\n"
     ]
    },
    {
     "data": {
      "text/plain": [
       "array([0., 1.])"
      ]
     },
     "execution_count": 18,
     "metadata": {},
     "output_type": "execute_result"
    }
   ],
   "source": [
    "# 5. TOLDHI3\n",
    "'''\n",
    "2 as 0 (no high cholesterol identified)\n",
    "1 as 1 (high chloresterol identified) >> leave it as it is.\n",
    "\n",
    "drop 7 and 9 from datasets\n",
    "'''\n",
    "# drop the value 7 and 9\n",
    "data.drop(data[(data['TOLDHI3'] == 7) | (data['TOLDHI3'] == 9)].index, inplace=True)\n",
    "\n",
    "# replace the remaining value into binary\n",
    "data['TOLDHI3'] = data['TOLDHI3'].replace({2:0})\n",
    "\n",
    "# check the value\n",
    "data['TOLDHI3'].unique()\n"
   ]
  },
  {
   "cell_type": "code",
   "execution_count": 19,
   "metadata": {},
   "outputs": [
    {
     "name": "stderr",
     "output_type": "stream",
     "text": [
      "C:\\Users\\abejr\\AppData\\Local\\Temp\\ipykernel_18940\\459788979.py:9: SettingWithCopyWarning: \n",
      "A value is trying to be set on a copy of a slice from a DataFrame\n",
      "\n",
      "See the caveats in the documentation: https://pandas.pydata.org/pandas-docs/stable/user_guide/indexing.html#returning-a-view-versus-a-copy\n",
      "  data.drop(data[(data['_CHOLCH3'] == 7) | (data['_CHOLCH3'] == 9)].index, inplace=True)\n",
      "C:\\Users\\abejr\\AppData\\Local\\Temp\\ipykernel_18940\\459788979.py:12: SettingWithCopyWarning: \n",
      "A value is trying to be set on a copy of a slice from a DataFrame.\n",
      "Try using .loc[row_indexer,col_indexer] = value instead\n",
      "\n",
      "See the caveats in the documentation: https://pandas.pydata.org/pandas-docs/stable/user_guide/indexing.html#returning-a-view-versus-a-copy\n",
      "  data['_CHOLCH3'] = data['_CHOLCH3'].replace({2:0, 3:0})\n"
     ]
    },
    {
     "data": {
      "text/plain": [
       "array([1., 0.])"
      ]
     },
     "execution_count": 19,
     "metadata": {},
     "output_type": "execute_result"
    }
   ],
   "source": [
    "# 6. _CHOLCH3\n",
    "'''\n",
    "2, and 3 as 0 (no cholesterol check up for the past 5 years)\n",
    "1 as 1 (cholesterol check up for the past 5 years) >> leave it as it is.\n",
    "\n",
    "drop 7 and 9 from datasets\n",
    "'''\n",
    "# drop the value 7 and 9\n",
    "data.drop(data[(data['_CHOLCH3'] == 7) | (data['_CHOLCH3'] == 9)].index, inplace=True)\n",
    "\n",
    "# replace the remaining value into binary\n",
    "data['_CHOLCH3'] = data['_CHOLCH3'].replace({2:0, 3:0})\n",
    "\n",
    "# check the value\n",
    "data['_CHOLCH3'].unique()"
   ]
  },
  {
   "cell_type": "code",
   "execution_count": 20,
   "metadata": {},
   "outputs": [
    {
     "name": "stderr",
     "output_type": "stream",
     "text": [
      "C:\\Users\\abejr\\AppData\\Local\\Temp\\ipykernel_18940\\2061910287.py:9: SettingWithCopyWarning: \n",
      "A value is trying to be set on a copy of a slice from a DataFrame\n",
      "\n",
      "See the caveats in the documentation: https://pandas.pydata.org/pandas-docs/stable/user_guide/indexing.html#returning-a-view-versus-a-copy\n",
      "  data.drop(data[(data['CHCKDNY2'] == 7) | (data['CHCKDNY2'] == 9)].index, inplace=True)\n",
      "C:\\Users\\abejr\\AppData\\Local\\Temp\\ipykernel_18940\\2061910287.py:12: SettingWithCopyWarning: \n",
      "A value is trying to be set on a copy of a slice from a DataFrame.\n",
      "Try using .loc[row_indexer,col_indexer] = value instead\n",
      "\n",
      "See the caveats in the documentation: https://pandas.pydata.org/pandas-docs/stable/user_guide/indexing.html#returning-a-view-versus-a-copy\n",
      "  data['CHCKDNY2'] = data['CHCKDNY2'].replace({2:0})\n"
     ]
    },
    {
     "data": {
      "text/plain": [
       "array([0., 1.])"
      ]
     },
     "execution_count": 20,
     "metadata": {},
     "output_type": "execute_result"
    }
   ],
   "source": [
    "# 7. CHCKDNY2\n",
    "'''\n",
    "2 as 0 (no kidney disease identified)\n",
    "1 as 1 (kidney disease identified (uncontrollable urine flow)) >> leave it as it is.\n",
    "\n",
    "drop 7 and 9 from datasets\n",
    "'''\n",
    "# drop the value 7 and 9\n",
    "data.drop(data[(data['CHCKDNY2'] == 7) | (data['CHCKDNY2'] == 9)].index, inplace=True)\n",
    "\n",
    "# replace the remaining value into binary\n",
    "data['CHCKDNY2'] = data['CHCKDNY2'].replace({2:0})\n",
    "\n",
    "# check the value\n",
    "data['CHCKDNY2'].unique()"
   ]
  },
  {
   "cell_type": "code",
   "execution_count": 21,
   "metadata": {},
   "outputs": [
    {
     "name": "stderr",
     "output_type": "stream",
     "text": [
      "C:\\Users\\abejr\\AppData\\Local\\Temp\\ipykernel_18940\\2222861531.py:9: SettingWithCopyWarning: \n",
      "A value is trying to be set on a copy of a slice from a DataFrame\n",
      "\n",
      "See the caveats in the documentation: https://pandas.pydata.org/pandas-docs/stable/user_guide/indexing.html#returning-a-view-versus-a-copy\n",
      "  data.drop(data[(data['SMOKE100'] == 7) | (data['SMOKE100'] == 9)].index, inplace=True)\n",
      "C:\\Users\\abejr\\AppData\\Local\\Temp\\ipykernel_18940\\2222861531.py:12: SettingWithCopyWarning: \n",
      "A value is trying to be set on a copy of a slice from a DataFrame.\n",
      "Try using .loc[row_indexer,col_indexer] = value instead\n",
      "\n",
      "See the caveats in the documentation: https://pandas.pydata.org/pandas-docs/stable/user_guide/indexing.html#returning-a-view-versus-a-copy\n",
      "  data['SMOKE100'] = data['SMOKE100'].replace({2:0})\n"
     ]
    },
    {
     "data": {
      "text/plain": [
       "array([0., 1.])"
      ]
     },
     "execution_count": 21,
     "metadata": {},
     "output_type": "execute_result"
    }
   ],
   "source": [
    "# 8. SMOKE100\n",
    "'''\n",
    "2 as 0 (no smoking for the last 100 days)\n",
    "1 as 1 (smoking for the last 100 days) >> leave it as it is.\n",
    "\n",
    "drop 7 and 9 from datasets\n",
    "'''\n",
    "# drop the value 7 and 9\n",
    "data.drop(data[(data['SMOKE100'] == 7) | (data['SMOKE100'] == 9)].index, inplace=True)\n",
    "\n",
    "# replace the remaining value into binary\n",
    "data['SMOKE100'] = data['SMOKE100'].replace({2:0})\n",
    "\n",
    "# check the value\n",
    "data['SMOKE100'].unique()"
   ]
  },
  {
   "cell_type": "code",
   "execution_count": 22,
   "metadata": {},
   "outputs": [
    {
     "name": "stderr",
     "output_type": "stream",
     "text": [
      "C:\\Users\\abejr\\AppData\\Local\\Temp\\ipykernel_18940\\1036980470.py:9: SettingWithCopyWarning: \n",
      "A value is trying to be set on a copy of a slice from a DataFrame\n",
      "\n",
      "See the caveats in the documentation: https://pandas.pydata.org/pandas-docs/stable/user_guide/indexing.html#returning-a-view-versus-a-copy\n",
      "  data.drop(data[(data['_RFDRHV8'] == 9)].index, inplace=True)\n",
      "C:\\Users\\abejr\\AppData\\Local\\Temp\\ipykernel_18940\\1036980470.py:12: SettingWithCopyWarning: \n",
      "A value is trying to be set on a copy of a slice from a DataFrame.\n",
      "Try using .loc[row_indexer,col_indexer] = value instead\n",
      "\n",
      "See the caveats in the documentation: https://pandas.pydata.org/pandas-docs/stable/user_guide/indexing.html#returning-a-view-versus-a-copy\n",
      "  data['_RFDRHV8'] = data['_RFDRHV8'].replace({2:1, 1:0})\n"
     ]
    },
    {
     "data": {
      "text/plain": [
       "array([0., 1.])"
      ]
     },
     "execution_count": 22,
     "metadata": {},
     "output_type": "execute_result"
    }
   ],
   "source": [
    "# 9. _RFDRHV8\n",
    "'''\n",
    "1 as 0 (not a heavy drinker)\n",
    "2 as 1 (heavy drinker)\n",
    "\n",
    "drop 9 from datasets\n",
    "'''\n",
    "# drop the value 7 and 9\n",
    "data.drop(data[(data['_RFDRHV8'] == 9)].index, inplace=True)\n",
    "\n",
    "# replace the remaining value into binary\n",
    "data['_RFDRHV8'] = data['_RFDRHV8'].replace({2:1, 1:0})\n",
    "\n",
    "# check the value\n",
    "data['_RFDRHV8'].unique()"
   ]
  },
  {
   "cell_type": "code",
   "execution_count": 23,
   "metadata": {},
   "outputs": [
    {
     "name": "stderr",
     "output_type": "stream",
     "text": [
      "C:\\Users\\abejr\\AppData\\Local\\Temp\\ipykernel_18940\\2344862667.py:9: SettingWithCopyWarning: \n",
      "A value is trying to be set on a copy of a slice from a DataFrame\n",
      "\n",
      "See the caveats in the documentation: https://pandas.pydata.org/pandas-docs/stable/user_guide/indexing.html#returning-a-view-versus-a-copy\n",
      "  data.drop(data[(data['CVDSTRK3'] == 7) | (data['CVDSTRK3'] == 9)].index, inplace=True)\n",
      "C:\\Users\\abejr\\AppData\\Local\\Temp\\ipykernel_18940\\2344862667.py:12: SettingWithCopyWarning: \n",
      "A value is trying to be set on a copy of a slice from a DataFrame.\n",
      "Try using .loc[row_indexer,col_indexer] = value instead\n",
      "\n",
      "See the caveats in the documentation: https://pandas.pydata.org/pandas-docs/stable/user_guide/indexing.html#returning-a-view-versus-a-copy\n",
      "  data['CVDSTRK3'] = data['CVDSTRK3'].replace({2:0})\n"
     ]
    },
    {
     "data": {
      "text/plain": [
       "array([0., 1.])"
      ]
     },
     "execution_count": 23,
     "metadata": {},
     "output_type": "execute_result"
    }
   ],
   "source": [
    "# 10. CVDSTRK3\n",
    "'''\n",
    "2 as 0 (no chronic health conditions identified)\n",
    "1 as 1 (chronic health conditions identified) >> leave it as it is.\n",
    "\n",
    "drop 7 and 9 from datasets\n",
    "'''\n",
    "# drop the value 7 and 9\n",
    "data.drop(data[(data['CVDSTRK3'] == 7) | (data['CVDSTRK3'] == 9)].index, inplace=True)\n",
    "\n",
    "# replace the remaining value into binary\n",
    "data['CVDSTRK3'] = data['CVDSTRK3'].replace({2:0})\n",
    "\n",
    "# check the value\n",
    "data['CVDSTRK3'].unique()"
   ]
  },
  {
   "cell_type": "code",
   "execution_count": 24,
   "metadata": {},
   "outputs": [
    {
     "name": "stderr",
     "output_type": "stream",
     "text": [
      "C:\\Users\\abejr\\AppData\\Local\\Temp\\ipykernel_18940\\2227250140.py:10: SettingWithCopyWarning: \n",
      "A value is trying to be set on a copy of a slice from a DataFrame.\n",
      "Try using .loc[row_indexer,col_indexer] = value instead\n",
      "\n",
      "See the caveats in the documentation: https://pandas.pydata.org/pandas-docs/stable/user_guide/indexing.html#returning-a-view-versus-a-copy\n",
      "  data['_MICHD'] = data['_MICHD'].replace({2:0})\n"
     ]
    },
    {
     "data": {
      "text/plain": [
       "array([0., 1.])"
      ]
     },
     "execution_count": 24,
     "metadata": {},
     "output_type": "execute_result"
    }
   ],
   "source": [
    "# 11. _MICHD\n",
    "'''\n",
    "2 as 0 (no historical CHD or MI identified)\n",
    "1 as 1 (historical CHD or MI identified) >> leave it as it is.\n",
    "\n",
    "no values to be dropped\n",
    "'''\n",
    "\n",
    "# replace the remaining value into binary\n",
    "data['_MICHD'] = data['_MICHD'].replace({2:0})\n",
    "\n",
    "# check the value\n",
    "data['_MICHD'].unique()"
   ]
  },
  {
   "cell_type": "code",
   "execution_count": 25,
   "metadata": {},
   "outputs": [
    {
     "name": "stderr",
     "output_type": "stream",
     "text": [
      "C:\\Users\\abejr\\AppData\\Local\\Temp\\ipykernel_18940\\3381710374.py:9: SettingWithCopyWarning: \n",
      "A value is trying to be set on a copy of a slice from a DataFrame\n",
      "\n",
      "See the caveats in the documentation: https://pandas.pydata.org/pandas-docs/stable/user_guide/indexing.html#returning-a-view-versus-a-copy\n",
      "  data.drop(data[(data['_TOTINDA'] == 9)].index, inplace=True)\n",
      "C:\\Users\\abejr\\AppData\\Local\\Temp\\ipykernel_18940\\3381710374.py:12: SettingWithCopyWarning: \n",
      "A value is trying to be set on a copy of a slice from a DataFrame.\n",
      "Try using .loc[row_indexer,col_indexer] = value instead\n",
      "\n",
      "See the caveats in the documentation: https://pandas.pydata.org/pandas-docs/stable/user_guide/indexing.html#returning-a-view-versus-a-copy\n",
      "  data['_TOTINDA'] = data['_TOTINDA'].replace({2:0})\n"
     ]
    },
    {
     "data": {
      "text/plain": [
       "array([0., 1.])"
      ]
     },
     "execution_count": 25,
     "metadata": {},
     "output_type": "execute_result"
    }
   ],
   "source": [
    "# 12. _TOTINDA\n",
    "'''\n",
    "2 as 0 (no physical activity/exercise identified)\n",
    "1 as 1 (physical activity/exercise identified) >> leave it as it is.\n",
    "\n",
    "drop 9 from datasets\n",
    "'''\n",
    "# drop the value 7 and 9\n",
    "data.drop(data[(data['_TOTINDA'] == 9)].index, inplace=True)\n",
    "\n",
    "# replace the remaining value into binary\n",
    "data['_TOTINDA'] = data['_TOTINDA'].replace({2:0})\n",
    "\n",
    "# check the value\n",
    "data['_TOTINDA'].unique()"
   ]
  },
  {
   "cell_type": "code",
   "execution_count": 26,
   "metadata": {},
   "outputs": [
    {
     "data": {
      "text/plain": [
       "array([2., 4., 3., 1., 5., 7., 9.])"
      ]
     },
     "execution_count": 26,
     "metadata": {},
     "output_type": "execute_result"
    }
   ],
   "source": [
    "data['GENHLTH'].unique()"
   ]
  },
  {
   "cell_type": "code",
   "execution_count": 27,
   "metadata": {},
   "outputs": [
    {
     "name": "stderr",
     "output_type": "stream",
     "text": [
      "C:\\Users\\abejr\\AppData\\Local\\Temp\\ipykernel_18940\\2857721127.py:8: SettingWithCopyWarning: \n",
      "A value is trying to be set on a copy of a slice from a DataFrame\n",
      "\n",
      "See the caveats in the documentation: https://pandas.pydata.org/pandas-docs/stable/user_guide/indexing.html#returning-a-view-versus-a-copy\n",
      "  data.drop(data[(data['GENHLTH'] == 7) | (data['GENHLTH'] == 9)].index, inplace=True)\n"
     ]
    },
    {
     "data": {
      "text/plain": [
       "array([2., 4., 3., 1., 5.])"
      ]
     },
     "execution_count": 27,
     "metadata": {},
     "output_type": "execute_result"
    }
   ],
   "source": [
    "# 13. GENHLTH\n",
    "'''\n",
    "We will leave ordinal number (1-5) as it is\n",
    "\n",
    "drop 7, and 9 from datasets\n",
    "'''\n",
    "# drop the value 7 and 9\n",
    "data.drop(data[(data['GENHLTH'] == 7) | (data['GENHLTH'] == 9)].index, inplace=True)\n",
    "\n",
    "# check the value\n",
    "data['GENHLTH'].unique()"
   ]
  },
  {
   "cell_type": "code",
   "execution_count": 28,
   "metadata": {},
   "outputs": [
    {
     "name": "stderr",
     "output_type": "stream",
     "text": [
      "C:\\Users\\abejr\\AppData\\Local\\Temp\\ipykernel_18940\\1040999692.py:9: SettingWithCopyWarning: \n",
      "A value is trying to be set on a copy of a slice from a DataFrame\n",
      "\n",
      "See the caveats in the documentation: https://pandas.pydata.org/pandas-docs/stable/user_guide/indexing.html#returning-a-view-versus-a-copy\n",
      "  data.drop(data[(data['PHYSHLTH'] == 77) | (data['PHYSHLTH'] == 99)].index, inplace=True)\n",
      "C:\\Users\\abejr\\AppData\\Local\\Temp\\ipykernel_18940\\1040999692.py:12: SettingWithCopyWarning: \n",
      "A value is trying to be set on a copy of a slice from a DataFrame.\n",
      "Try using .loc[row_indexer,col_indexer] = value instead\n",
      "\n",
      "See the caveats in the documentation: https://pandas.pydata.org/pandas-docs/stable/user_guide/indexing.html#returning-a-view-versus-a-copy\n",
      "  data['PHYSHLTH'] = data['PHYSHLTH'].replace({88:0})\n"
     ]
    },
    {
     "data": {
      "text/plain": [
       "array([ 0.,  6.,  2.,  8.,  1.,  5.,  4., 15., 30., 21., 10., 25., 14.,\n",
       "        7., 20.,  3., 12., 26., 24., 18., 13., 28., 16., 17., 11., 22.,\n",
       "       27.,  9., 29., 23., 19.])"
      ]
     },
     "execution_count": 28,
     "metadata": {},
     "output_type": "execute_result"
    }
   ],
   "source": [
    "# 14. PHYSHLTH\n",
    "'''\n",
    "88 as 0 (no bad health days identified)\n",
    "we will leave 0-30, as a ordinal number, as it is\n",
    "\n",
    "drop 77, and 99 from datasets\n",
    "'''\n",
    "# drop the value 77 and 99\n",
    "data.drop(data[(data['PHYSHLTH'] == 77) | (data['PHYSHLTH'] == 99)].index, inplace=True)\n",
    "\n",
    "# replace the remaining value\n",
    "data['PHYSHLTH'] = data['PHYSHLTH'].replace({88:0})\n",
    "\n",
    "# check the value\n",
    "data['PHYSHLTH'].unique()"
   ]
  },
  {
   "cell_type": "code",
   "execution_count": 29,
   "metadata": {},
   "outputs": [
    {
     "name": "stderr",
     "output_type": "stream",
     "text": [
      "C:\\Users\\abejr\\AppData\\Local\\Temp\\ipykernel_18940\\2701334721.py:9: SettingWithCopyWarning: \n",
      "A value is trying to be set on a copy of a slice from a DataFrame\n",
      "\n",
      "See the caveats in the documentation: https://pandas.pydata.org/pandas-docs/stable/user_guide/indexing.html#returning-a-view-versus-a-copy\n",
      "  data.drop(data[(data['MENTHLTH'] == 77) | (data['MENTHLTH'] == 99)].index, inplace=True)\n",
      "C:\\Users\\abejr\\AppData\\Local\\Temp\\ipykernel_18940\\2701334721.py:12: SettingWithCopyWarning: \n",
      "A value is trying to be set on a copy of a slice from a DataFrame.\n",
      "Try using .loc[row_indexer,col_indexer] = value instead\n",
      "\n",
      "See the caveats in the documentation: https://pandas.pydata.org/pandas-docs/stable/user_guide/indexing.html#returning-a-view-versus-a-copy\n",
      "  data['MENTHLTH'] = data['MENTHLTH'].replace({88:0})\n"
     ]
    },
    {
     "data": {
      "text/plain": [
       "array([ 0.,  2.,  3., 25., 10., 30., 20., 15.,  5., 12.,  4.,  1.,  6.,\n",
       "       21.,  7., 14., 29.,  8., 16., 17.,  9., 28., 11., 18., 22., 24.,\n",
       "       13., 27., 26., 19., 23.])"
      ]
     },
     "execution_count": 29,
     "metadata": {},
     "output_type": "execute_result"
    }
   ],
   "source": [
    "# 15. MENTHLTH\n",
    "'''\n",
    "88 as 0 (no bad health days identified)\n",
    "we will leave 0-30, as a ordinal number, as it is\n",
    "\n",
    "drop 77, and 99 from datasets\n",
    "'''\n",
    "# drop the value 77 and 99\n",
    "data.drop(data[(data['MENTHLTH'] == 77) | (data['MENTHLTH'] == 99)].index, inplace=True)\n",
    "\n",
    "# replace the remaining value\n",
    "data['MENTHLTH'] = data['MENTHLTH'].replace({88:0})\n",
    "\n",
    "# check the value\n",
    "data['MENTHLTH'].unique()"
   ]
  },
  {
   "cell_type": "code",
   "execution_count": 30,
   "metadata": {},
   "outputs": [
    {
     "name": "stderr",
     "output_type": "stream",
     "text": [
      "C:\\Users\\abejr\\AppData\\Local\\Temp\\ipykernel_18940\\3760655220.py:9: SettingWithCopyWarning: \n",
      "A value is trying to be set on a copy of a slice from a DataFrame\n",
      "\n",
      "See the caveats in the documentation: https://pandas.pydata.org/pandas-docs/stable/user_guide/indexing.html#returning-a-view-versus-a-copy\n",
      "  data.drop(data[(data['DIFFWALK'] == 7) | (data['DIFFWALK'] == 9)].index, inplace=True)\n",
      "C:\\Users\\abejr\\AppData\\Local\\Temp\\ipykernel_18940\\3760655220.py:12: SettingWithCopyWarning: \n",
      "A value is trying to be set on a copy of a slice from a DataFrame.\n",
      "Try using .loc[row_indexer,col_indexer] = value instead\n",
      "\n",
      "See the caveats in the documentation: https://pandas.pydata.org/pandas-docs/stable/user_guide/indexing.html#returning-a-view-versus-a-copy\n",
      "  data['DIFFWALK'] = data['DIFFWALK'].replace({2:0})\n"
     ]
    },
    {
     "data": {
      "text/plain": [
       "array([1., 0.])"
      ]
     },
     "execution_count": 30,
     "metadata": {},
     "output_type": "execute_result"
    }
   ],
   "source": [
    "# 16. DIFFWALK\n",
    "'''\n",
    "2 as 0 (no difficulty in walking/climbing stairs identified)\n",
    "1 as 1 (difficulty in walking/climbing stairs identified) >> leave it as it is\n",
    "\n",
    "drop 7, and 9 from datasets\n",
    "'''\n",
    "# drop the value 7 and 9\n",
    "data.drop(data[(data['DIFFWALK'] == 7) | (data['DIFFWALK'] == 9)].index, inplace=True)\n",
    "\n",
    "# replace the remaining value into binary\n",
    "data['DIFFWALK'] = data['DIFFWALK'].replace({2:0})\n",
    "\n",
    "# check the value\n",
    "data['DIFFWALK'].unique()"
   ]
  },
  {
   "cell_type": "code",
   "execution_count": 31,
   "metadata": {},
   "outputs": [
    {
     "name": "stderr",
     "output_type": "stream",
     "text": [
      "C:\\Users\\abejr\\AppData\\Local\\Temp\\ipykernel_18940\\3997274657.py:9: SettingWithCopyWarning: \n",
      "A value is trying to be set on a copy of a slice from a DataFrame\n",
      "\n",
      "See the caveats in the documentation: https://pandas.pydata.org/pandas-docs/stable/user_guide/indexing.html#returning-a-view-versus-a-copy\n",
      "  data.drop(data[(data['_HLTHPL1'] == 7) | (data['_HLTHPL1'] == 9)].index, inplace=True)\n",
      "C:\\Users\\abejr\\AppData\\Local\\Temp\\ipykernel_18940\\3997274657.py:12: SettingWithCopyWarning: \n",
      "A value is trying to be set on a copy of a slice from a DataFrame.\n",
      "Try using .loc[row_indexer,col_indexer] = value instead\n",
      "\n",
      "See the caveats in the documentation: https://pandas.pydata.org/pandas-docs/stable/user_guide/indexing.html#returning-a-view-versus-a-copy\n",
      "  data['_HLTHPL1'] = data['_HLTHPL1'].replace({2:0})\n"
     ]
    },
    {
     "data": {
      "text/plain": [
       "array([1., 0.])"
      ]
     },
     "execution_count": 31,
     "metadata": {},
     "output_type": "execute_result"
    }
   ],
   "source": [
    "# 17. _HLTHPL1\n",
    "'''\n",
    "2 as 0 (no healthcare access identified)\n",
    "1 as 1 (healthcare access identified) >> leave it as it is\n",
    "\n",
    "drop 7, and 9 from datasets\n",
    "'''\n",
    "# drop the value 7 and 9\n",
    "data.drop(data[(data['_HLTHPL1'] == 7) | (data['_HLTHPL1'] == 9)].index, inplace=True)\n",
    "\n",
    "# replace the remaining value into binary\n",
    "data['_HLTHPL1'] = data['_HLTHPL1'].replace({2:0})\n",
    "\n",
    "# check the value\n",
    "data['_HLTHPL1'].unique()"
   ]
  },
  {
   "cell_type": "code",
   "execution_count": 32,
   "metadata": {},
   "outputs": [
    {
     "name": "stderr",
     "output_type": "stream",
     "text": [
      "C:\\Users\\abejr\\AppData\\Local\\Temp\\ipykernel_18940\\170583058.py:9: SettingWithCopyWarning: \n",
      "A value is trying to be set on a copy of a slice from a DataFrame\n",
      "\n",
      "See the caveats in the documentation: https://pandas.pydata.org/pandas-docs/stable/user_guide/indexing.html#returning-a-view-versus-a-copy\n",
      "  data.drop(data[(data['MEDCOST1'] == 7) | (data['MEDCOST1'] == 9)].index, inplace=True)\n",
      "C:\\Users\\abejr\\AppData\\Local\\Temp\\ipykernel_18940\\170583058.py:12: SettingWithCopyWarning: \n",
      "A value is trying to be set on a copy of a slice from a DataFrame.\n",
      "Try using .loc[row_indexer,col_indexer] = value instead\n",
      "\n",
      "See the caveats in the documentation: https://pandas.pydata.org/pandas-docs/stable/user_guide/indexing.html#returning-a-view-versus-a-copy\n",
      "  data['MEDCOST1'] = data['MEDCOST1'].replace({2:0})\n"
     ]
    },
    {
     "data": {
      "text/plain": [
       "array([0., 1.])"
      ]
     },
     "execution_count": 32,
     "metadata": {},
     "output_type": "execute_result"
    }
   ],
   "source": [
    "# 18. MEDCOST1\n",
    "'''\n",
    "2 as 0 (could afford to see doctor)\n",
    "1 as 1 (couldn't afford to see the doctor) >> leave it as it is\n",
    "\n",
    "drop 7, and 9 from datasets\n",
    "'''\n",
    "# drop the value 7 and 9\n",
    "data.drop(data[(data['MEDCOST1'] == 7) | (data['MEDCOST1'] == 9)].index, inplace=True)\n",
    "\n",
    "# replace the remaining value into binary\n",
    "data['MEDCOST1'] = data['MEDCOST1'].replace({2:0})\n",
    "\n",
    "# check the value\n",
    "data['MEDCOST1'].unique()"
   ]
  },
  {
   "cell_type": "code",
   "execution_count": 33,
   "metadata": {},
   "outputs": [
    {
     "name": "stderr",
     "output_type": "stream",
     "text": [
      "C:\\Users\\abejr\\AppData\\Local\\Temp\\ipykernel_18940\\2710424494.py:9: SettingWithCopyWarning: \n",
      "A value is trying to be set on a copy of a slice from a DataFrame\n",
      "\n",
      "See the caveats in the documentation: https://pandas.pydata.org/pandas-docs/stable/user_guide/indexing.html#returning-a-view-versus-a-copy\n",
      "  data.drop(data[(data['CHECKUP1'] == 7) | (data['CHECKUP1'] == 9)].index, inplace=True)\n",
      "C:\\Users\\abejr\\AppData\\Local\\Temp\\ipykernel_18940\\2710424494.py:12: SettingWithCopyWarning: \n",
      "A value is trying to be set on a copy of a slice from a DataFrame.\n",
      "Try using .loc[row_indexer,col_indexer] = value instead\n",
      "\n",
      "See the caveats in the documentation: https://pandas.pydata.org/pandas-docs/stable/user_guide/indexing.html#returning-a-view-versus-a-copy\n",
      "  data['CHECKUP1'] = data['CHECKUP1'].replace({8:5})\n"
     ]
    },
    {
     "data": {
      "text/plain": [
       "array([2., 1., 3., 5., 4.])"
      ]
     },
     "execution_count": 33,
     "metadata": {},
     "output_type": "execute_result"
    }
   ],
   "source": [
    "# 19. CHECKUP1\n",
    "'''\n",
    "we leave ordinal column (1-4) as it is.\n",
    "change 8 to 5 as never check up.\n",
    "\n",
    "drop 7, an 9 from datasets.\n",
    "'''\n",
    "# drop the value 7 and 9\n",
    "data.drop(data[(data['CHECKUP1'] == 7) | (data['CHECKUP1'] == 9)].index, inplace=True)\n",
    "\n",
    "# replace the remaining value into binary\n",
    "data['CHECKUP1'] = data['CHECKUP1'].replace({8:5})\n",
    "\n",
    "# check the value\n",
    "data['CHECKUP1'].unique()"
   ]
  },
  {
   "cell_type": "code",
   "execution_count": 34,
   "metadata": {},
   "outputs": [
    {
     "name": "stderr",
     "output_type": "stream",
     "text": [
      "C:\\Users\\abejr\\AppData\\Local\\Temp\\ipykernel_18940\\88195152.py:7: SettingWithCopyWarning: \n",
      "A value is trying to be set on a copy of a slice from a DataFrame.\n",
      "Try using .loc[row_indexer,col_indexer] = value instead\n",
      "\n",
      "See the caveats in the documentation: https://pandas.pydata.org/pandas-docs/stable/user_guide/indexing.html#returning-a-view-versus-a-copy\n",
      "  data['_SEX'] = data['_SEX'].replace({2:0})\n"
     ]
    },
    {
     "data": {
      "text/plain": [
       "array([0., 1.])"
      ]
     },
     "execution_count": 34,
     "metadata": {},
     "output_type": "execute_result"
    }
   ],
   "source": [
    "# 20. _SEX\n",
    "'''\n",
    "2 as 0 (female)\n",
    "1 as 1 (mens tend to have more chance of diabetees)\n",
    "'''\n",
    "# replace the remaining value into binary\n",
    "data['_SEX'] = data['_SEX'].replace({2:0})\n",
    "\n",
    "# check the value\n",
    "data['_SEX'].unique()"
   ]
  },
  {
   "cell_type": "code",
   "execution_count": 35,
   "metadata": {},
   "outputs": [
    {
     "data": {
      "text/plain": [
       "array([13., 12.,  9.,  8., 10., 11.,  6.,  4.,  5.,  7.,  2.,  1., 14.,\n",
       "        3.])"
      ]
     },
     "execution_count": 35,
     "metadata": {},
     "output_type": "execute_result"
    }
   ],
   "source": [
    "data['_AGEG5YR'].unique()"
   ]
  },
  {
   "cell_type": "code",
   "execution_count": 36,
   "metadata": {},
   "outputs": [
    {
     "name": "stderr",
     "output_type": "stream",
     "text": [
      "C:\\Users\\abejr\\AppData\\Local\\Temp\\ipykernel_18940\\2569284760.py:8: SettingWithCopyWarning: \n",
      "A value is trying to be set on a copy of a slice from a DataFrame\n",
      "\n",
      "See the caveats in the documentation: https://pandas.pydata.org/pandas-docs/stable/user_guide/indexing.html#returning-a-view-versus-a-copy\n",
      "  data.drop(data[(data['_AGEG5YR'] == 14)].index, inplace=True)\n"
     ]
    },
    {
     "data": {
      "text/plain": [
       "array([13., 12.,  9.,  8., 10., 11.,  6.,  4.,  5.,  7.,  2.,  1.,  3.])"
      ]
     },
     "execution_count": 36,
     "metadata": {},
     "output_type": "execute_result"
    }
   ],
   "source": [
    "# 21. _AGEG5YR\n",
    "'''\n",
    "we will leave ordinal values (1-13) as it is.\n",
    "\n",
    "drop 14 from datasets.\n",
    "'''\n",
    "# drop the value 14\n",
    "data.drop(data[(data['_AGEG5YR'] == 14)].index, inplace=True)\n",
    "\n",
    "# check the value\n",
    "data['_AGEG5YR'].unique()"
   ]
  },
  {
   "cell_type": "code",
   "execution_count": 37,
   "metadata": {},
   "outputs": [
    {
     "name": "stderr",
     "output_type": "stream",
     "text": [
      "C:\\Users\\abejr\\AppData\\Local\\Temp\\ipykernel_18940\\1024242661.py:8: SettingWithCopyWarning: \n",
      "A value is trying to be set on a copy of a slice from a DataFrame\n",
      "\n",
      "See the caveats in the documentation: https://pandas.pydata.org/pandas-docs/stable/user_guide/indexing.html#returning-a-view-versus-a-copy\n",
      "  data.drop(data[(data['EDUCA'] == 9)].index, inplace=True)\n"
     ]
    },
    {
     "data": {
      "text/plain": [
       "array([5., 4., 6., 3., 2., 1.])"
      ]
     },
     "execution_count": 37,
     "metadata": {},
     "output_type": "execute_result"
    }
   ],
   "source": [
    "# 22. EDUCA\n",
    "'''\n",
    "we will leave ordinal values (1-6) as it is.\n",
    "\n",
    "drop 9 from datasets.\n",
    "'''\n",
    "# drop the value 9\n",
    "data.drop(data[(data['EDUCA'] == 9)].index, inplace=True)\n",
    "\n",
    "# check the value\n",
    "data['EDUCA'].unique()"
   ]
  },
  {
   "cell_type": "code",
   "execution_count": 38,
   "metadata": {},
   "outputs": [
    {
     "name": "stderr",
     "output_type": "stream",
     "text": [
      "C:\\Users\\abejr\\AppData\\Local\\Temp\\ipykernel_18940\\1267642251.py:8: SettingWithCopyWarning: \n",
      "A value is trying to be set on a copy of a slice from a DataFrame\n",
      "\n",
      "See the caveats in the documentation: https://pandas.pydata.org/pandas-docs/stable/user_guide/indexing.html#returning-a-view-versus-a-copy\n",
      "  data.drop(data[(data['INCOME3'] == 77) | (data['INCOME3'] == 99)].index, inplace=True)\n"
     ]
    },
    {
     "data": {
      "text/plain": [
       "array([ 2.,  7.,  6.,  9.,  3.,  5.,  4.,  8., 11., 10.,  1.])"
      ]
     },
     "execution_count": 38,
     "metadata": {},
     "output_type": "execute_result"
    }
   ],
   "source": [
    "# 23. INCOME3\n",
    "'''\n",
    "we will leave ordinal values (1-11) as it is.\n",
    "\n",
    "drop 77, and 99 from datasets.\n",
    "'''\n",
    "# drop the value 77 and 99\n",
    "data.drop(data[(data['INCOME3'] == 77) | (data['INCOME3'] == 99)].index, inplace=True)\n",
    "\n",
    "# check the value\n",
    "data['INCOME3'].unique()"
   ]
  },
  {
   "cell_type": "code",
   "execution_count": null,
   "metadata": {},
   "outputs": [],
   "source": []
  }
 ],
 "metadata": {
  "kernelspec": {
   "display_name": "Python 3",
   "language": "python",
   "name": "python3"
  },
  "language_info": {
   "codemirror_mode": {
    "name": "ipython",
    "version": 3
   },
   "file_extension": ".py",
   "mimetype": "text/x-python",
   "name": "python",
   "nbconvert_exporter": "python",
   "pygments_lexer": "ipython3",
   "version": "3.13.0"
  }
 },
 "nbformat": 4,
 "nbformat_minor": 2
}
